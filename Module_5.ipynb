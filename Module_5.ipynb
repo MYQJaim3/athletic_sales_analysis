{
 "cells": [
  {
   "cell_type": "code",
   "execution_count": null,
   "metadata": {},
   "outputs": [],
   "source": [
    "\n",
    "# Part 1: Combine and Clean the Data\n",
    "df_2020 = pd.read_csv('athletic_sales_2020.csv')\n",
    "df_2021 = pd.read_csv('athletic_sales_2021.csv')\n",
    "\n",
    "# Check columns and data types\n",
    "print(df_2020.dtypes)\n",
    "print(df_2021.dtypes)\n"
   ]
  },
  {
   "cell_type": "code",
   "execution_count": null,
   "metadata": {},
   "outputs": [],
   "source": [
    "# %%\n",
    "# Combine the two DataFrames\n",
    "df = pd.concat([df_2020, df_2021], join='inner').reset_index(drop=True)\n",
    "\n",
    "# Check for null values\n",
    "print(df.isnull().sum())\n"
   ]
  },
  {
   "cell_type": "code",
   "execution_count": null,
   "metadata": {},
   "outputs": [],
   "source": [
    "# %%\n",
    "# Convert \"invoice_date\" to datetime\n",
    "df['invoice_date'] = pd.to_datetime(df['invoice_date'])\n",
    "print(df.dtypes)\n"
   ]
  },
  {
   "cell_type": "code",
   "execution_count": null,
   "metadata": {},
   "outputs": [],
   "source": [
    "# %%\n",
    "# Part 2: Determine which Region Sold the Most Products\n",
    "region_sales = df.groupby(['region', 'state', 'city']).size().reset_index(name='num_products_sold')\n",
    "region_sales = region_sales.sort_values('num_products_sold', ascending=False)\n",
    "print(region_sales.head())\n"
   ]
  },
  {
   "cell_type": "code",
   "execution_count": null,
   "metadata": {},
   "outputs": [],
   "source": [
    "# %%\n",
    "# Part 3: Determine which Region had the Most Sales\n",
    "region_revenue = df.groupby(['region', 'state', 'city'])['total_sales'].sum().reset_index(name='total_sales')\n",
    "region_revenue = region_revenue.sort_values('total_sales', ascending=False)\n",
    "print(region_revenue.head())\n"
   ]
  },
  {
   "cell_type": "code",
   "execution_count": null,
   "metadata": {},
   "outputs": [],
   "source": [
    "# %%\n",
    "# Part 4: Determine which Retailer had the Most Sales\n",
    "retailer_sales = df.groupby(['retailer', 'region', 'state', 'city'])['total_sales'].sum().reset_index(name='total_sales')\n",
    "retailer_sales = retailer_sales.sort_values('total_sales', ascending=False)\n",
    "print(retailer_sales.head())\n"
   ]
  },
  {
   "cell_type": "code",
   "execution_count": null,
   "metadata": {},
   "outputs": [],
   "source": [
    "# %%\n",
    "# Part 5: Determine which Retailer Sold the Most Women's Athletic Footwear\n",
    "df_women = df[df['product_type'] == \"Women's Athletic Footwear\"]\n",
    "retailer_women_sales = df_women.groupby(['retailer', 'region', 'state', 'city'])['total_sales'].sum().reset_index(name='total_sales')\n",
    "retailer_women_sales = retailer_women_sales.sort_values('total_sales', ascending=False)\n",
    "print(retailer_women_sales.head())\n",
    "\n"
   ]
  },
  {
   "cell_type": "code",
   "execution_count": null,
   "metadata": {},
   "outputs": [],
   "source": [
    "# %%\n",
    "# Part 6: Determine the Day with the Most Women's Athletic Footwear Sales\n",
    "daily_sales = df_women.pivot_table(index='invoice_date', values='total_sales', aggfunc='sum')\n",
    "daily_sales = daily_sales.resample('D').sum().sort_values('total_sales', ascending=False)\n",
    "print(daily_sales.head(10))\n"
   ]
  },
  {
   "cell_type": "code",
   "execution_count": null,
   "metadata": {},
   "outputs": [],
   "source": [
    "# %%\n",
    "# Part 7: Determine the Week with the Most Women's Athletic Footwear Sales\n",
    "weekly_sales = daily_sales.resample('W').sum().sort_values('total_sales', ascending=False)\n",
    "print(weekly_sales.head(10)\n"
   ]
  },
  {
   "cell_type": "code",
   "execution_count": null,
   "metadata": {},
   "outputs": [],
   "source": [
    "# %%\n",
    "\n",
    "\n",
    "\n"
   ]
  }
 ],
 "metadata": {
  "language_info": {
   "codemirror_mode": {
    "name": "ipython",
    "version": 3
   },
   "file_extension": ".py",
   "mimetype": "text/x-python",
   "name": "python",
   "nbconvert_exporter": "python",
   "pygments_lexer": "ipython3",
   "version": 3
  }
 },
 "nbformat": 4,
 "nbformat_minor": 2
}
